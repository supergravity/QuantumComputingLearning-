{
 "cells": [
  {
   "cell_type": "markdown",
   "metadata": {},
   "source": [
    "# VQE DIY:\n",
    "What is VQE?\n",
    "\n",
    "VQE is an algorithm that find the minimum of the cost function which can be expressed in Pauli matrices.\n",
    " \n",
    "Consider a Hermitian matrix as:\n",
    "\\begin{equation}\n",
    "\\begin{split}\n",
    "M&= \\begin{bmatrix}\n",
    "-0.2524859\n",
    " &0.18121\n",
    " \\\\ \n",
    "0.18121\n",
    " & -1.8318639\n",
    "\\end{bmatrix}\\\\&=-1.0421749I+ 0.789689Z+ 0.181210X.\n",
    "\\end{split}\n",
    "\\end{equation}\n",
    "The cost function is\n",
    "\\begin{equation}\n",
    "\\begin{split}\n",
    "M(\\theta)=\\langle\\psi (\\theta)|M|\\psi(\\theta) \\rangle,\n",
    "\\end{split}\n",
    "\\end{equation}\n",
    "                                 $|𝜓(𝜃)⟩$ is the trial wavefunction.\n",
    "\n",
    "If we operate $R_y(\\theta)$  on  $|0\\rangle$ :\n",
    "\\begin{equation}\n",
    "|\\psi(\\theta)\\rangle=R_y(\\theta)|0\\rangle=\\text{cos}(\\theta/2)|0\\rangle+\\text{sin}(\\theta/2)|1\\rangle=\\begin{bmatrix}\n",
    "\\text{cos}(\\frac{\\theta}{2}) \\\\ \n",
    "\\text{sin}(\\frac{\\theta}{2}) \n",
    "\\end{bmatrix}.\n",
    "\\end{equation}\n",
    "The lowest eigenvalue($M_0$) can be consider as:\n",
    "\\begin{equation}\n",
    "M_0=\\min_\\theta\\langle0|R_y(\\theta)^\\dagger MR_y(\\theta)|0\\rangle=\\min_\\theta M(\\theta)\n",
    "\\end{equation}\n"
   ]
  },
  {
   "cell_type": "code",
   "execution_count": 1,
   "metadata": {},
   "outputs": [],
   "source": [
    "import numpy as np \n",
    "from qiskit import( QuantumRegister, ClassicalRegister, QuantumCircuit, execute, Aer)\n",
    "import math\n"
   ]
  },
  {
   "cell_type": "markdown",
   "metadata": {},
   "source": [
    "### Calculating $M(\\theta)$ on QC\n",
    "\n",
    "The expectation value of $Z$ is as\n",
    "\\begin{equation}\n",
    "\\langle Z\\rangle=\\mathbb{P}_0-\\mathbb{P}_1,\n",
    "\\end{equation}\n",
    "where $(\\mathbb{P}_0,\\mathbb{P}_1)$ is the probability distribution.\n",
    "\n",
    "If we don't want to measure the state on Z-axis, we can rotate the bloch vector to change the measure axis via the single-qubit gate.\n",
    "\n",
    "The expectation value of $X$ is as\n",
    "\\begin{equation}\n",
    "\\langle X\\rangle=\\langle R_y(\\pi/2)ZR_y(-\\pi/2)\\rangle=\\mathbb{P}_0-\\mathbb{P}_1.\n",
    "\\end{equation}\n"
   ]
  },
  {
   "cell_type": "code",
   "execution_count": 2,
   "metadata": {},
   "outputs": [],
   "source": [
    "shot=10000\n",
    "simulator = Aer.get_backend('qasm_simulator')\n",
    "\n",
    "def M(x0):\n",
    "    theta=x0[0]\n",
    "    M=-1.0421749\n",
    "    ####caculate the expectation value of 0.789689𝑍\n",
    "    qr = QuantumRegister(1) # initiate the circuit\n",
    "    cr = ClassicalRegister(1) #\n",
    "    Cix= QuantumCircuit(qr, cr) #\n",
    "    #Cix.x(0) initial in |1>\n",
    "    Cix.ry(theta,0) #the ansatz \n",
    "    Cix.measure(0,0)       \n",
    "    job = execute(Cix, simulator, shots=shot) \n",
    "    result = job.result().get_counts()#collect the data\n",
    "    \n",
    "    P_0=result.get('0',0)/shot\n",
    "    P_1=result.get('1',0)/shot\n",
    "    temp=P_0-P_1  \n",
    "    #temp is the expectation value of Z\n",
    "    M+=temp*0.789689\n",
    "    \n",
    "    ####caculate the expectation value of 0.181210𝑋\n",
    "    qr = QuantumRegister(1)\n",
    "    cr = ClassicalRegister(1)\n",
    "    Cix= QuantumCircuit(qr, cr)\n",
    "    #Cix.x(0)  initial in |1>\n",
    "    Cix.ry(theta,0)# the ansatz\n",
    "    Cix.ry(-math.pi/2,0)# rotate the measurement frame\n",
    "    Cix.measure(0,0)       \n",
    "    job = execute(Cix, simulator, shots=shot) \n",
    "    result = job.result().get_counts()\n",
    "        \n",
    "    P_0=result.get('0',0)/shot\n",
    "    P_1=result.get('1',0)/shot\n",
    "    temp=P_0-P_1 \n",
    "    #temp is the expectation value of X    \n",
    "    M+=temp*0.181210\n",
    "    return M"
   ]
  },
  {
   "cell_type": "markdown",
   "metadata": {},
   "source": [
    " ### Using the classical optimization algorithm\n",
    " scipy.optimize.minimize:\n",
    " https://docs.scipy.org/doc/scipy/reference/generated/scipy.optimize.minimize.html#scipy.optimize.minimize\n"
   ]
  },
  {
   "cell_type": "code",
   "execution_count": 3,
   "metadata": {},
   "outputs": [],
   "source": [
    "from scipy.optimize import minimize\n",
    "sol = minimize(M,[0],method='COBYLA',options={'rhobeg': 1, 'maxiter': 100, 'disp': False, 'catol': 0.0001})\n",
    "## classical optimization algorithm‘Nelder-Mead’,‘Powell’,‘L-BFGS-B’,‘COBYLA’ ,‘SLSQP’........."
   ]
  },
  {
   "cell_type": "markdown",
   "metadata": {},
   "source": [
    "### VQE solution"
   ]
  },
  {
   "cell_type": "code",
   "execution_count": 4,
   "metadata": {
    "scrolled": true
   },
   "outputs": [
    {
     "name": "stdout",
     "output_type": "stream",
     "text": [
      "method: VQE -1.8471360474 21\n"
     ]
    }
   ],
   "source": [
    "print('method: VQE',sol.fun,sol.nfev)"
   ]
  },
  {
   "cell_type": "code",
   "execution_count": 5,
   "metadata": {},
   "outputs": [
    {
     "data": {
      "text/plain": [
       "(-1.8523883168359594+0j)"
      ]
     },
     "execution_count": 5,
     "metadata": {},
     "output_type": "execute_result"
    }
   ],
   "source": [
    "import scipy.linalg as la\n",
    "H= np.array([[-0.2524859,0.18121],[0.18121,-1.8318639]])\n",
    "exacteigenvalue = la.eig(H)\n",
    "exacteigenvalue[0][1]"
   ]
  },
  {
   "cell_type": "markdown",
   "metadata": {},
   "source": [
    " ### Error rate"
   ]
  },
  {
   "cell_type": "code",
   "execution_count": 6,
   "metadata": {},
   "outputs": [
    {
     "data": {
      "text/plain": [
       "(-0.0028354041041085214-0j)"
      ]
     },
     "execution_count": 6,
     "metadata": {},
     "output_type": "execute_result"
    }
   ],
   "source": [
    "error=(sol.fun-exacteigenvalue[0][1])/exacteigenvalue[0][1]\n",
    "error"
   ]
  },
  {
   "cell_type": "code",
   "execution_count": null,
   "metadata": {},
   "outputs": [],
   "source": []
  },
  {
   "cell_type": "code",
   "execution_count": null,
   "metadata": {},
   "outputs": [],
   "source": []
  }
 ],
 "metadata": {
  "kernelspec": {
   "display_name": "Python 3",
   "language": "python",
   "name": "python3"
  },
  "language_info": {
   "codemirror_mode": {
    "name": "ipython",
    "version": 3
   },
   "file_extension": ".py",
   "mimetype": "text/x-python",
   "name": "python",
   "nbconvert_exporter": "python",
   "pygments_lexer": "ipython3",
   "version": "3.7.7"
  }
 },
 "nbformat": 4,
 "nbformat_minor": 4
}
