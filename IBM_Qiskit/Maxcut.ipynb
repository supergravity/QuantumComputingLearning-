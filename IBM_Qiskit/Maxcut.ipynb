{
 "cells": [
  {
   "cell_type": "markdown",
   "metadata": {},
   "source": [
    "## _*Using Qiskit Aqua for max-cut problems*_\n",
    "\n",
    "This Qiskit Aqua Optimization notebook demonstrates how to use the VQE quantum algorithm to compute the max cut of a given graph. \n",
    "\n"
   ]
  },
  {
   "cell_type": "code",
   "execution_count": 1,
   "metadata": {},
   "outputs": [],
   "source": [
    "import numpy as np\n",
    "from qiskit import Aer\n",
    "from qiskit.optimization.ising import max_cut\n",
    "from qiskit.aqua import QuantumInstance\n",
    "from qiskit.aqua.algorithms import ExactEigensolver, VQE,QAOA\n",
    "from qiskit.aqua.components.optimizers import L_BFGS_B\n",
    "from qiskit.aqua.components.variational_forms import RYRZ\n",
    "from qiskit.optimization.ising.common import parse_gset_format, random_graph, sample_most_likely"
   ]
  },
  {
   "cell_type": "markdown",
   "metadata": {},
   "source": [
    "Here an Operator instance is created for our Hamiltonian. In this case the paulis are from an Ising Hamiltonian translated from the max-cut problem. We load a small sample instance of the max-cut problem."
   ]
  },
  {
   "cell_type": "code",
   "execution_count": 2,
   "metadata": {},
   "outputs": [
    {
     "name": "stdout",
     "output_type": "stream",
     "text": [
      "[[0 1 1]\n",
      " [1 0 0]\n",
      " [1 0 0]]\n"
     ]
    }
   ],
   "source": [
    "w=np.array([[0,1,1],[1,0,0],[1,0,0]])\n",
    "print(w)"
   ]
  },
  {
   "cell_type": "markdown",
   "metadata": {},
   "source": [
    "We also offer a function to generate a random graph as a input."
   ]
  },
  {
   "cell_type": "code",
   "execution_count": 3,
   "metadata": {
    "scrolled": true
   },
   "outputs": [
    {
     "data": {
      "text/plain": [
       "[[(0.5+0j), Pauli(z=[True, True, False], x=[False, False, False])],\n",
       " [(0.5+0j), Pauli(z=[True, False, True], x=[False, False, False])]]"
      ]
     },
     "execution_count": 3,
     "metadata": {},
     "output_type": "execute_result"
    }
   ],
   "source": [
    "qubitOp, offset = max_cut.get_operator(w)\n",
    "qubitOp.paulis"
   ]
  },
  {
   "cell_type": "markdown",
   "metadata": {},
   "source": [
    "## _*Classical method*_"
   ]
  },
  {
   "cell_type": "code",
   "execution_count": 4,
   "metadata": {
    "scrolled": true
   },
   "outputs": [
    {
     "name": "stdout",
     "output_type": "stream",
     "text": [
      "energy: -1.0\n",
      "max-cut objective: -2.0\n",
      "solution: [0. 1. 1.]\n",
      "solution objective: 2.0\n"
     ]
    }
   ],
   "source": [
    "result = ExactEigensolver(qubitOp).run()\n",
    "x = sample_most_likely(result['eigvecs'][0])\n",
    "print('energy:', result['energy'])\n",
    "print('max-cut objective:', result['energy'] + offset)\n",
    "print('solution:', max_cut.get_graph_solution(x))\n",
    "print('solution objective:', max_cut.max_cut_value(x, w))"
   ]
  },
  {
   "cell_type": "markdown",
   "metadata": {},
   "source": [
    "## _*VQE method*_"
   ]
  },
  {
   "cell_type": "code",
   "execution_count": 5,
   "metadata": {
    "scrolled": true
   },
   "outputs": [
    {
     "name": "stderr",
     "output_type": "stream",
     "text": [
      "/home/ibmqopen/anaconda3/envs/Qdemo/lib/python3.7/site-packages/qiskit/aqua/operators/weighted_pauli_operator.py:118: DeprecationWarning: The Pauli.numberofqubits method is deprecated as of 0.13.0, and will be removed no earlier than 3 months after that release date. You should use the Pauli.num_qubits method instead.\n",
      "  return self._paulis[0][1].numberofqubits\n",
      "/home/ibmqopen/anaconda3/envs/Qdemo/lib/python3.7/site-packages/qiskit/aqua/operators/weighted_pauli_operator.py:118: DeprecationWarning: The Pauli.numberofqubits method is deprecated as of 0.13.0, and will be removed no earlier than 3 months after that release date. You should use the Pauli.num_qubits method instead.\n",
      "  return self._paulis[0][1].numberofqubits\n",
      "/home/ibmqopen/anaconda3/envs/Qdemo/lib/python3.7/site-packages/qiskit/aqua/operators/weighted_pauli_operator.py:118: DeprecationWarning: The Pauli.numberofqubits method is deprecated as of 0.13.0, and will be removed no earlier than 3 months after that release date. You should use the Pauli.num_qubits method instead.\n",
      "  return self._paulis[0][1].numberofqubits\n",
      "/home/ibmqopen/anaconda3/envs/Qdemo/lib/python3.7/site-packages/qiskit/aqua/operators/weighted_pauli_operator.py:118: DeprecationWarning: The Pauli.numberofqubits method is deprecated as of 0.13.0, and will be removed no earlier than 3 months after that release date. You should use the Pauli.num_qubits method instead.\n",
      "  return self._paulis[0][1].numberofqubits\n"
     ]
    },
    {
     "name": "stdout",
     "output_type": "stream",
     "text": [
      "energy: -0.9999999998613587\n",
      "time: 15.44348406791687\n",
      "max-cut objective: -1.9999999998613587\n",
      "solution: [0. 1. 1.]\n",
      "solution objective: 2.0\n"
     ]
    }
   ],
   "source": [
    "vqe = VQE(qubitOp,\n",
    "          RYRZ(qubitOp.num_qubits, depth=3, entanglement='linear'),\n",
    "          L_BFGS_B(maxfun=6000))\n",
    "result = vqe.run(QuantumInstance(Aer.get_backend('statevector_simulator')))\n",
    "\n",
    "x = sample_most_likely(result['eigvecs'][0])\n",
    "print('energy:', result['energy'])\n",
    "print('time:', result['eval_time'])\n",
    "print('max-cut objective:', result['energy'] + offset)\n",
    "print('solution:', max_cut.get_graph_solution(x))\n",
    "print('solution objective:', max_cut.max_cut_value(x, w))"
   ]
  },
  {
   "cell_type": "markdown",
   "metadata": {},
   "source": [
    "## _*QAOA method*_"
   ]
  },
  {
   "cell_type": "code",
   "execution_count": 6,
   "metadata": {
    "scrolled": true
   },
   "outputs": [
    {
     "name": "stderr",
     "output_type": "stream",
     "text": [
      "/home/ibmqopen/anaconda3/envs/Qdemo/lib/python3.7/site-packages/qiskit/aqua/operators/weighted_pauli_operator.py:118: DeprecationWarning: The Pauli.numberofqubits method is deprecated as of 0.13.0, and will be removed no earlier than 3 months after that release date. You should use the Pauli.num_qubits method instead.\n",
      "  return self._paulis[0][1].numberofqubits\n",
      "/home/ibmqopen/anaconda3/envs/Qdemo/lib/python3.7/site-packages/qiskit/aqua/operators/weighted_pauli_operator.py:118: DeprecationWarning: The Pauli.numberofqubits method is deprecated as of 0.13.0, and will be removed no earlier than 3 months after that release date. You should use the Pauli.num_qubits method instead.\n",
      "  return self._paulis[0][1].numberofqubits\n",
      "/home/ibmqopen/anaconda3/envs/Qdemo/lib/python3.7/site-packages/qiskit/aqua/operators/weighted_pauli_operator.py:118: DeprecationWarning: The Pauli.numberofqubits method is deprecated as of 0.13.0, and will be removed no earlier than 3 months after that release date. You should use the Pauli.num_qubits method instead.\n",
      "  return self._paulis[0][1].numberofqubits\n",
      "/home/ibmqopen/anaconda3/envs/Qdemo/lib/python3.7/site-packages/qiskit/aqua/operators/weighted_pauli_operator.py:118: DeprecationWarning: The Pauli.numberofqubits method is deprecated as of 0.13.0, and will be removed no earlier than 3 months after that release date. You should use the Pauli.num_qubits method instead.\n",
      "  return self._paulis[0][1].numberofqubits\n",
      "/home/ibmqopen/anaconda3/envs/Qdemo/lib/python3.7/site-packages/qiskit/aqua/operators/weighted_pauli_operator.py:118: DeprecationWarning: The Pauli.numberofqubits method is deprecated as of 0.13.0, and will be removed no earlier than 3 months after that release date. You should use the Pauli.num_qubits method instead.\n",
      "  return self._paulis[0][1].numberofqubits\n",
      "/home/ibmqopen/anaconda3/envs/Qdemo/lib/python3.7/site-packages/qiskit/aqua/operators/weighted_pauli_operator.py:118: DeprecationWarning: The Pauli.numberofqubits method is deprecated as of 0.13.0, and will be removed no earlier than 3 months after that release date. You should use the Pauli.num_qubits method instead.\n",
      "  return self._paulis[0][1].numberofqubits\n",
      "/home/ibmqopen/anaconda3/envs/Qdemo/lib/python3.7/site-packages/qiskit/aqua/operators/weighted_pauli_operator.py:118: DeprecationWarning: The Pauli.numberofqubits method is deprecated as of 0.13.0, and will be removed no earlier than 3 months after that release date. You should use the Pauli.num_qubits method instead.\n",
      "  return self._paulis[0][1].numberofqubits\n",
      "/home/ibmqopen/anaconda3/envs/Qdemo/lib/python3.7/site-packages/qiskit/aqua/operators/weighted_pauli_operator.py:118: DeprecationWarning: The Pauli.numberofqubits method is deprecated as of 0.13.0, and will be removed no earlier than 3 months after that release date. You should use the Pauli.num_qubits method instead.\n",
      "  return self._paulis[0][1].numberofqubits\n",
      "/home/ibmqopen/anaconda3/envs/Qdemo/lib/python3.7/site-packages/qiskit/aqua/operators/weighted_pauli_operator.py:118: DeprecationWarning: The Pauli.numberofqubits method is deprecated as of 0.13.0, and will be removed no earlier than 3 months after that release date. You should use the Pauli.num_qubits method instead.\n",
      "  return self._paulis[0][1].numberofqubits\n",
      "/home/ibmqopen/anaconda3/envs/Qdemo/lib/python3.7/site-packages/qiskit/aqua/operators/weighted_pauli_operator.py:118: DeprecationWarning: The Pauli.numberofqubits method is deprecated as of 0.13.0, and will be removed no earlier than 3 months after that release date. You should use the Pauli.num_qubits method instead.\n",
      "  return self._paulis[0][1].numberofqubits\n",
      "/home/ibmqopen/anaconda3/envs/Qdemo/lib/python3.7/site-packages/qiskit/aqua/operators/weighted_pauli_operator.py:118: DeprecationWarning: The Pauli.numberofqubits method is deprecated as of 0.13.0, and will be removed no earlier than 3 months after that release date. You should use the Pauli.num_qubits method instead.\n",
      "  return self._paulis[0][1].numberofqubits\n",
      "/home/ibmqopen/anaconda3/envs/Qdemo/lib/python3.7/site-packages/qiskit/aqua/operators/pauli_graph.py:48: DeprecationWarning: The Pauli.numberofqubits method is deprecated as of 0.13.0, and will be removed no earlier than 3 months after that release date. You should use the Pauli.num_qubits method instead.\n",
      "  nqbits = self.nodes[0].numberofqubits\n",
      "/home/ibmqopen/anaconda3/envs/Qdemo/lib/python3.7/site-packages/qiskit/aqua/operators/pauli_graph.py:50: DeprecationWarning: The Pauli.numberofqubits method is deprecated as of 0.13.0, and will be removed no earlier than 3 months after that release date. You should use the Pauli.num_qubits method instead.\n",
      "  assert nqbits == self.nodes[i].numberofqubits, \"different number of qubits\"\n",
      "/home/ibmqopen/anaconda3/envs/Qdemo/lib/python3.7/site-packages/qiskit/aqua/operators/common.py:258: DeprecationWarning: The Pauli.numberofqubits method is deprecated as of 0.13.0, and will be removed no earlier than 3 months after that release date. You should use the Pauli.num_qubits method instead.\n",
      "  state_registers = QuantumRegister(pauli_list[0][1].numberofqubits)\n",
      "/home/ibmqopen/anaconda3/envs/Qdemo/lib/python3.7/site-packages/qiskit/aqua/operators/common.py:273: DeprecationWarning: The Pauli.numberofqubits method is deprecated as of 0.13.0, and will be removed no earlier than 3 months after that release date. You should use the Pauli.num_qubits method instead.\n",
      "  n_qubits = pauli[1].numberofqubits\n",
      "/home/ibmqopen/anaconda3/envs/Qdemo/lib/python3.7/site-packages/qiskit/aqua/operators/common.py:273: DeprecationWarning: The Pauli.numberofqubits method is deprecated as of 0.13.0, and will be removed no earlier than 3 months after that release date. You should use the Pauli.num_qubits method instead.\n",
      "  n_qubits = pauli[1].numberofqubits\n",
      "/home/ibmqopen/anaconda3/envs/Qdemo/lib/python3.7/site-packages/qiskit/aqua/operators/common.py:258: DeprecationWarning: The Pauli.numberofqubits method is deprecated as of 0.13.0, and will be removed no earlier than 3 months after that release date. You should use the Pauli.num_qubits method instead.\n",
      "  state_registers = QuantumRegister(pauli_list[0][1].numberofqubits)\n",
      "/home/ibmqopen/anaconda3/envs/Qdemo/lib/python3.7/site-packages/qiskit/aqua/operators/common.py:273: DeprecationWarning: The Pauli.numberofqubits method is deprecated as of 0.13.0, and will be removed no earlier than 3 months after that release date. You should use the Pauli.num_qubits method instead.\n",
      "  n_qubits = pauli[1].numberofqubits\n",
      "/home/ibmqopen/anaconda3/envs/Qdemo/lib/python3.7/site-packages/qiskit/aqua/operators/common.py:273: DeprecationWarning: The Pauli.numberofqubits method is deprecated as of 0.13.0, and will be removed no earlier than 3 months after that release date. You should use the Pauli.num_qubits method instead.\n",
      "  n_qubits = pauli[1].numberofqubits\n",
      "/home/ibmqopen/anaconda3/envs/Qdemo/lib/python3.7/site-packages/qiskit/aqua/operators/common.py:273: DeprecationWarning: The Pauli.numberofqubits method is deprecated as of 0.13.0, and will be removed no earlier than 3 months after that release date. You should use the Pauli.num_qubits method instead.\n",
      "  n_qubits = pauli[1].numberofqubits\n",
      "/home/ibmqopen/anaconda3/envs/Qdemo/lib/python3.7/site-packages/qiskit/aqua/operators/common.py:258: DeprecationWarning: The Pauli.numberofqubits method is deprecated as of 0.13.0, and will be removed no earlier than 3 months after that release date. You should use the Pauli.num_qubits method instead.\n",
      "  state_registers = QuantumRegister(pauli_list[0][1].numberofqubits)\n",
      "/home/ibmqopen/anaconda3/envs/Qdemo/lib/python3.7/site-packages/qiskit/aqua/operators/common.py:273: DeprecationWarning: The Pauli.numberofqubits method is deprecated as of 0.13.0, and will be removed no earlier than 3 months after that release date. You should use the Pauli.num_qubits method instead.\n",
      "  n_qubits = pauli[1].numberofqubits\n",
      "/home/ibmqopen/anaconda3/envs/Qdemo/lib/python3.7/site-packages/qiskit/aqua/operators/common.py:273: DeprecationWarning: The Pauli.numberofqubits method is deprecated as of 0.13.0, and will be removed no earlier than 3 months after that release date. You should use the Pauli.num_qubits method instead.\n",
      "  n_qubits = pauli[1].numberofqubits\n",
      "/home/ibmqopen/anaconda3/envs/Qdemo/lib/python3.7/site-packages/qiskit/aqua/operators/common.py:258: DeprecationWarning: The Pauli.numberofqubits method is deprecated as of 0.13.0, and will be removed no earlier than 3 months after that release date. You should use the Pauli.num_qubits method instead.\n",
      "  state_registers = QuantumRegister(pauli_list[0][1].numberofqubits)\n",
      "/home/ibmqopen/anaconda3/envs/Qdemo/lib/python3.7/site-packages/qiskit/aqua/operators/common.py:273: DeprecationWarning: The Pauli.numberofqubits method is deprecated as of 0.13.0, and will be removed no earlier than 3 months after that release date. You should use the Pauli.num_qubits method instead.\n",
      "  n_qubits = pauli[1].numberofqubits\n",
      "/home/ibmqopen/anaconda3/envs/Qdemo/lib/python3.7/site-packages/qiskit/aqua/operators/common.py:273: DeprecationWarning: The Pauli.numberofqubits method is deprecated as of 0.13.0, and will be removed no earlier than 3 months after that release date. You should use the Pauli.num_qubits method instead.\n",
      "  n_qubits = pauli[1].numberofqubits\n",
      "/home/ibmqopen/anaconda3/envs/Qdemo/lib/python3.7/site-packages/qiskit/aqua/operators/common.py:273: DeprecationWarning: The Pauli.numberofqubits method is deprecated as of 0.13.0, and will be removed no earlier than 3 months after that release date. You should use the Pauli.num_qubits method instead.\n",
      "  n_qubits = pauli[1].numberofqubits\n",
      "/home/ibmqopen/anaconda3/envs/Qdemo/lib/python3.7/site-packages/qiskit/aqua/operators/common.py:258: DeprecationWarning: The Pauli.numberofqubits method is deprecated as of 0.13.0, and will be removed no earlier than 3 months after that release date. You should use the Pauli.num_qubits method instead.\n",
      "  state_registers = QuantumRegister(pauli_list[0][1].numberofqubits)\n",
      "/home/ibmqopen/anaconda3/envs/Qdemo/lib/python3.7/site-packages/qiskit/aqua/operators/common.py:273: DeprecationWarning: The Pauli.numberofqubits method is deprecated as of 0.13.0, and will be removed no earlier than 3 months after that release date. You should use the Pauli.num_qubits method instead.\n",
      "  n_qubits = pauli[1].numberofqubits\n",
      "/home/ibmqopen/anaconda3/envs/Qdemo/lib/python3.7/site-packages/qiskit/aqua/operators/common.py:273: DeprecationWarning: The Pauli.numberofqubits method is deprecated as of 0.13.0, and will be removed no earlier than 3 months after that release date. You should use the Pauli.num_qubits method instead.\n",
      "  n_qubits = pauli[1].numberofqubits\n",
      "/home/ibmqopen/anaconda3/envs/Qdemo/lib/python3.7/site-packages/qiskit/aqua/operators/common.py:258: DeprecationWarning: The Pauli.numberofqubits method is deprecated as of 0.13.0, and will be removed no earlier than 3 months after that release date. You should use the Pauli.num_qubits method instead.\n",
      "  state_registers = QuantumRegister(pauli_list[0][1].numberofqubits)\n",
      "/home/ibmqopen/anaconda3/envs/Qdemo/lib/python3.7/site-packages/qiskit/aqua/operators/common.py:273: DeprecationWarning: The Pauli.numberofqubits method is deprecated as of 0.13.0, and will be removed no earlier than 3 months after that release date. You should use the Pauli.num_qubits method instead.\n",
      "  n_qubits = pauli[1].numberofqubits\n",
      "/home/ibmqopen/anaconda3/envs/Qdemo/lib/python3.7/site-packages/qiskit/aqua/operators/common.py:273: DeprecationWarning: The Pauli.numberofqubits method is deprecated as of 0.13.0, and will be removed no earlier than 3 months after that release date. You should use the Pauli.num_qubits method instead.\n",
      "  n_qubits = pauli[1].numberofqubits\n",
      "/home/ibmqopen/anaconda3/envs/Qdemo/lib/python3.7/site-packages/qiskit/aqua/operators/common.py:273: DeprecationWarning: The Pauli.numberofqubits method is deprecated as of 0.13.0, and will be removed no earlier than 3 months after that release date. You should use the Pauli.num_qubits method instead.\n",
      "  n_qubits = pauli[1].numberofqubits\n",
      "/home/ibmqopen/anaconda3/envs/Qdemo/lib/python3.7/site-packages/qiskit/aqua/operators/weighted_pauli_operator.py:118: DeprecationWarning: The Pauli.numberofqubits method is deprecated as of 0.13.0, and will be removed no earlier than 3 months after that release date. You should use the Pauli.num_qubits method instead.\n",
      "  return self._paulis[0][1].numberofqubits\n",
      "/home/ibmqopen/anaconda3/envs/Qdemo/lib/python3.7/site-packages/qiskit/aqua/operators/weighted_pauli_operator.py:118: DeprecationWarning: The Pauli.numberofqubits method is deprecated as of 0.13.0, and will be removed no earlier than 3 months after that release date. You should use the Pauli.num_qubits method instead.\n",
      "  return self._paulis[0][1].numberofqubits\n",
      "/home/ibmqopen/anaconda3/envs/Qdemo/lib/python3.7/site-packages/qiskit/aqua/operators/weighted_pauli_operator.py:118: DeprecationWarning: The Pauli.numberofqubits method is deprecated as of 0.13.0, and will be removed no earlier than 3 months after that release date. You should use the Pauli.num_qubits method instead.\n",
      "  return self._paulis[0][1].numberofqubits\n",
      "/home/ibmqopen/anaconda3/envs/Qdemo/lib/python3.7/site-packages/qiskit/aqua/operators/common.py:43: DeprecationWarning: The Pauli.numberofqubits method is deprecated as of 0.13.0, and will be removed no earlier than 3 months after that release date. You should use the Pauli.num_qubits method instead.\n",
      "  num_qubits = pauli.numberofqubits\n",
      "/home/ibmqopen/anaconda3/envs/Qdemo/lib/python3.7/site-packages/qiskit/aqua/components/optimizers/spsa.py:250: RuntimeWarning: divide by zero encountered in double_scalars\n",
      "  * self._parameters[1] * (self._parameters[4] + 1)\n",
      "/home/ibmqopen/anaconda3/envs/Qdemo/lib/python3.7/site-packages/qiskit/aqua/components/optimizers/spsa.py:195: RuntimeWarning: invalid value encountered in multiply\n",
      "  theta = theta - a_spsa * g_spsa\n",
      "/home/ibmqopen/anaconda3/envs/Qdemo/lib/python3.7/site-packages/qiskit/aqua/operators/common.py:258: DeprecationWarning: The Pauli.numberofqubits method is deprecated as of 0.13.0, and will be removed no earlier than 3 months after that release date. You should use the Pauli.num_qubits method instead.\n",
      "  state_registers = QuantumRegister(pauli_list[0][1].numberofqubits)\n",
      "/home/ibmqopen/anaconda3/envs/Qdemo/lib/python3.7/site-packages/qiskit/aqua/operators/common.py:273: DeprecationWarning: The Pauli.numberofqubits method is deprecated as of 0.13.0, and will be removed no earlier than 3 months after that release date. You should use the Pauli.num_qubits method instead.\n",
      "  n_qubits = pauli[1].numberofqubits\n",
      "/home/ibmqopen/anaconda3/envs/Qdemo/lib/python3.7/site-packages/qiskit/aqua/operators/common.py:273: DeprecationWarning: The Pauli.numberofqubits method is deprecated as of 0.13.0, and will be removed no earlier than 3 months after that release date. You should use the Pauli.num_qubits method instead.\n",
      "  n_qubits = pauli[1].numberofqubits\n",
      "/home/ibmqopen/anaconda3/envs/Qdemo/lib/python3.7/site-packages/qiskit/aqua/operators/common.py:258: DeprecationWarning: The Pauli.numberofqubits method is deprecated as of 0.13.0, and will be removed no earlier than 3 months after that release date. You should use the Pauli.num_qubits method instead.\n",
      "  state_registers = QuantumRegister(pauli_list[0][1].numberofqubits)\n",
      "/home/ibmqopen/anaconda3/envs/Qdemo/lib/python3.7/site-packages/qiskit/aqua/operators/common.py:273: DeprecationWarning: The Pauli.numberofqubits method is deprecated as of 0.13.0, and will be removed no earlier than 3 months after that release date. You should use the Pauli.num_qubits method instead.\n",
      "  n_qubits = pauli[1].numberofqubits\n",
      "/home/ibmqopen/anaconda3/envs/Qdemo/lib/python3.7/site-packages/qiskit/aqua/operators/common.py:273: DeprecationWarning: The Pauli.numberofqubits method is deprecated as of 0.13.0, and will be removed no earlier than 3 months after that release date. You should use the Pauli.num_qubits method instead.\n",
      "  n_qubits = pauli[1].numberofqubits\n",
      "/home/ibmqopen/anaconda3/envs/Qdemo/lib/python3.7/site-packages/qiskit/aqua/operators/common.py:273: DeprecationWarning: The Pauli.numberofqubits method is deprecated as of 0.13.0, and will be removed no earlier than 3 months after that release date. You should use the Pauli.num_qubits method instead.\n",
      "  n_qubits = pauli[1].numberofqubits\n",
      "/home/ibmqopen/anaconda3/envs/Qdemo/lib/python3.7/site-packages/qiskit/aqua/operators/common.py:258: DeprecationWarning: The Pauli.numberofqubits method is deprecated as of 0.13.0, and will be removed no earlier than 3 months after that release date. You should use the Pauli.num_qubits method instead.\n",
      "  state_registers = QuantumRegister(pauli_list[0][1].numberofqubits)\n",
      "/home/ibmqopen/anaconda3/envs/Qdemo/lib/python3.7/site-packages/qiskit/aqua/operators/common.py:273: DeprecationWarning: The Pauli.numberofqubits method is deprecated as of 0.13.0, and will be removed no earlier than 3 months after that release date. You should use the Pauli.num_qubits method instead.\n",
      "  n_qubits = pauli[1].numberofqubits\n",
      "/home/ibmqopen/anaconda3/envs/Qdemo/lib/python3.7/site-packages/qiskit/aqua/operators/common.py:273: DeprecationWarning: The Pauli.numberofqubits method is deprecated as of 0.13.0, and will be removed no earlier than 3 months after that release date. You should use the Pauli.num_qubits method instead.\n",
      "  n_qubits = pauli[1].numberofqubits\n",
      "/home/ibmqopen/anaconda3/envs/Qdemo/lib/python3.7/site-packages/qiskit/aqua/operators/common.py:258: DeprecationWarning: The Pauli.numberofqubits method is deprecated as of 0.13.0, and will be removed no earlier than 3 months after that release date. You should use the Pauli.num_qubits method instead.\n",
      "  state_registers = QuantumRegister(pauli_list[0][1].numberofqubits)\n",
      "/home/ibmqopen/anaconda3/envs/Qdemo/lib/python3.7/site-packages/qiskit/aqua/operators/common.py:273: DeprecationWarning: The Pauli.numberofqubits method is deprecated as of 0.13.0, and will be removed no earlier than 3 months after that release date. You should use the Pauli.num_qubits method instead.\n",
      "  n_qubits = pauli[1].numberofqubits\n",
      "/home/ibmqopen/anaconda3/envs/Qdemo/lib/python3.7/site-packages/qiskit/aqua/operators/common.py:273: DeprecationWarning: The Pauli.numberofqubits method is deprecated as of 0.13.0, and will be removed no earlier than 3 months after that release date. You should use the Pauli.num_qubits method instead.\n",
      "  n_qubits = pauli[1].numberofqubits\n",
      "/home/ibmqopen/anaconda3/envs/Qdemo/lib/python3.7/site-packages/qiskit/aqua/operators/common.py:273: DeprecationWarning: The Pauli.numberofqubits method is deprecated as of 0.13.0, and will be removed no earlier than 3 months after that release date. You should use the Pauli.num_qubits method instead.\n",
      "  n_qubits = pauli[1].numberofqubits\n",
      "/home/ibmqopen/anaconda3/envs/Qdemo/lib/python3.7/site-packages/qiskit/aqua/operators/common.py:258: DeprecationWarning: The Pauli.numberofqubits method is deprecated as of 0.13.0, and will be removed no earlier than 3 months after that release date. You should use the Pauli.num_qubits method instead.\n",
      "  state_registers = QuantumRegister(pauli_list[0][1].numberofqubits)\n",
      "/home/ibmqopen/anaconda3/envs/Qdemo/lib/python3.7/site-packages/qiskit/aqua/operators/common.py:273: DeprecationWarning: The Pauli.numberofqubits method is deprecated as of 0.13.0, and will be removed no earlier than 3 months after that release date. You should use the Pauli.num_qubits method instead.\n",
      "  n_qubits = pauli[1].numberofqubits\n",
      "/home/ibmqopen/anaconda3/envs/Qdemo/lib/python3.7/site-packages/qiskit/aqua/operators/common.py:273: DeprecationWarning: The Pauli.numberofqubits method is deprecated as of 0.13.0, and will be removed no earlier than 3 months after that release date. You should use the Pauli.num_qubits method instead.\n",
      "  n_qubits = pauli[1].numberofqubits\n",
      "/home/ibmqopen/anaconda3/envs/Qdemo/lib/python3.7/site-packages/qiskit/aqua/operators/common.py:258: DeprecationWarning: The Pauli.numberofqubits method is deprecated as of 0.13.0, and will be removed no earlier than 3 months after that release date. You should use the Pauli.num_qubits method instead.\n",
      "  state_registers = QuantumRegister(pauli_list[0][1].numberofqubits)\n",
      "/home/ibmqopen/anaconda3/envs/Qdemo/lib/python3.7/site-packages/qiskit/aqua/operators/common.py:273: DeprecationWarning: The Pauli.numberofqubits method is deprecated as of 0.13.0, and will be removed no earlier than 3 months after that release date. You should use the Pauli.num_qubits method instead.\n",
      "  n_qubits = pauli[1].numberofqubits\n",
      "/home/ibmqopen/anaconda3/envs/Qdemo/lib/python3.7/site-packages/qiskit/aqua/operators/common.py:273: DeprecationWarning: The Pauli.numberofqubits method is deprecated as of 0.13.0, and will be removed no earlier than 3 months after that release date. You should use the Pauli.num_qubits method instead.\n",
      "  n_qubits = pauli[1].numberofqubits\n",
      "/home/ibmqopen/anaconda3/envs/Qdemo/lib/python3.7/site-packages/qiskit/aqua/operators/common.py:273: DeprecationWarning: The Pauli.numberofqubits method is deprecated as of 0.13.0, and will be removed no earlier than 3 months after that release date. You should use the Pauli.num_qubits method instead.\n",
      "  n_qubits = pauli[1].numberofqubits\n",
      "/home/ibmqopen/anaconda3/envs/Qdemo/lib/python3.7/site-packages/qiskit/aqua/operators/common.py:258: DeprecationWarning: The Pauli.numberofqubits method is deprecated as of 0.13.0, and will be removed no earlier than 3 months after that release date. You should use the Pauli.num_qubits method instead.\n",
      "  state_registers = QuantumRegister(pauli_list[0][1].numberofqubits)\n",
      "/home/ibmqopen/anaconda3/envs/Qdemo/lib/python3.7/site-packages/qiskit/aqua/operators/common.py:273: DeprecationWarning: The Pauli.numberofqubits method is deprecated as of 0.13.0, and will be removed no earlier than 3 months after that release date. You should use the Pauli.num_qubits method instead.\n",
      "  n_qubits = pauli[1].numberofqubits\n",
      "/home/ibmqopen/anaconda3/envs/Qdemo/lib/python3.7/site-packages/qiskit/aqua/operators/common.py:273: DeprecationWarning: The Pauli.numberofqubits method is deprecated as of 0.13.0, and will be removed no earlier than 3 months after that release date. You should use the Pauli.num_qubits method instead.\n",
      "  n_qubits = pauli[1].numberofqubits\n",
      "/home/ibmqopen/anaconda3/envs/Qdemo/lib/python3.7/site-packages/qiskit/aqua/operators/common.py:258: DeprecationWarning: The Pauli.numberofqubits method is deprecated as of 0.13.0, and will be removed no earlier than 3 months after that release date. You should use the Pauli.num_qubits method instead.\n",
      "  state_registers = QuantumRegister(pauli_list[0][1].numberofqubits)\n",
      "/home/ibmqopen/anaconda3/envs/Qdemo/lib/python3.7/site-packages/qiskit/aqua/operators/common.py:273: DeprecationWarning: The Pauli.numberofqubits method is deprecated as of 0.13.0, and will be removed no earlier than 3 months after that release date. You should use the Pauli.num_qubits method instead.\n",
      "  n_qubits = pauli[1].numberofqubits\n",
      "/home/ibmqopen/anaconda3/envs/Qdemo/lib/python3.7/site-packages/qiskit/aqua/operators/common.py:273: DeprecationWarning: The Pauli.numberofqubits method is deprecated as of 0.13.0, and will be removed no earlier than 3 months after that release date. You should use the Pauli.num_qubits method instead.\n",
      "  n_qubits = pauli[1].numberofqubits\n",
      "/home/ibmqopen/anaconda3/envs/Qdemo/lib/python3.7/site-packages/qiskit/aqua/operators/common.py:273: DeprecationWarning: The Pauli.numberofqubits method is deprecated as of 0.13.0, and will be removed no earlier than 3 months after that release date. You should use the Pauli.num_qubits method instead.\n",
      "  n_qubits = pauli[1].numberofqubits\n",
      "/home/ibmqopen/anaconda3/envs/Qdemo/lib/python3.7/site-packages/qiskit/aqua/operators/common.py:258: DeprecationWarning: The Pauli.numberofqubits method is deprecated as of 0.13.0, and will be removed no earlier than 3 months after that release date. You should use the Pauli.num_qubits method instead.\n",
      "  state_registers = QuantumRegister(pauli_list[0][1].numberofqubits)\n",
      "/home/ibmqopen/anaconda3/envs/Qdemo/lib/python3.7/site-packages/qiskit/aqua/operators/common.py:273: DeprecationWarning: The Pauli.numberofqubits method is deprecated as of 0.13.0, and will be removed no earlier than 3 months after that release date. You should use the Pauli.num_qubits method instead.\n",
      "  n_qubits = pauli[1].numberofqubits\n",
      "/home/ibmqopen/anaconda3/envs/Qdemo/lib/python3.7/site-packages/qiskit/aqua/operators/common.py:273: DeprecationWarning: The Pauli.numberofqubits method is deprecated as of 0.13.0, and will be removed no earlier than 3 months after that release date. You should use the Pauli.num_qubits method instead.\n",
      "  n_qubits = pauli[1].numberofqubits\n",
      "/home/ibmqopen/anaconda3/envs/Qdemo/lib/python3.7/site-packages/qiskit/aqua/operators/common.py:258: DeprecationWarning: The Pauli.numberofqubits method is deprecated as of 0.13.0, and will be removed no earlier than 3 months after that release date. You should use the Pauli.num_qubits method instead.\n",
      "  state_registers = QuantumRegister(pauli_list[0][1].numberofqubits)\n",
      "/home/ibmqopen/anaconda3/envs/Qdemo/lib/python3.7/site-packages/qiskit/aqua/operators/common.py:273: DeprecationWarning: The Pauli.numberofqubits method is deprecated as of 0.13.0, and will be removed no earlier than 3 months after that release date. You should use the Pauli.num_qubits method instead.\n",
      "  n_qubits = pauli[1].numberofqubits\n",
      "/home/ibmqopen/anaconda3/envs/Qdemo/lib/python3.7/site-packages/qiskit/aqua/operators/common.py:273: DeprecationWarning: The Pauli.numberofqubits method is deprecated as of 0.13.0, and will be removed no earlier than 3 months after that release date. You should use the Pauli.num_qubits method instead.\n",
      "  n_qubits = pauli[1].numberofqubits\n",
      "/home/ibmqopen/anaconda3/envs/Qdemo/lib/python3.7/site-packages/qiskit/aqua/operators/common.py:273: DeprecationWarning: The Pauli.numberofqubits method is deprecated as of 0.13.0, and will be removed no earlier than 3 months after that release date. You should use the Pauli.num_qubits method instead.\n",
      "  n_qubits = pauli[1].numberofqubits\n",
      "/home/ibmqopen/anaconda3/envs/Qdemo/lib/python3.7/site-packages/qiskit/aqua/operators/common.py:258: DeprecationWarning: The Pauli.numberofqubits method is deprecated as of 0.13.0, and will be removed no earlier than 3 months after that release date. You should use the Pauli.num_qubits method instead.\n",
      "  state_registers = QuantumRegister(pauli_list[0][1].numberofqubits)\n",
      "/home/ibmqopen/anaconda3/envs/Qdemo/lib/python3.7/site-packages/qiskit/aqua/operators/common.py:273: DeprecationWarning: The Pauli.numberofqubits method is deprecated as of 0.13.0, and will be removed no earlier than 3 months after that release date. You should use the Pauli.num_qubits method instead.\n",
      "  n_qubits = pauli[1].numberofqubits\n",
      "/home/ibmqopen/anaconda3/envs/Qdemo/lib/python3.7/site-packages/qiskit/aqua/operators/common.py:273: DeprecationWarning: The Pauli.numberofqubits method is deprecated as of 0.13.0, and will be removed no earlier than 3 months after that release date. You should use the Pauli.num_qubits method instead.\n",
      "  n_qubits = pauli[1].numberofqubits\n",
      "/home/ibmqopen/anaconda3/envs/Qdemo/lib/python3.7/site-packages/qiskit/aqua/operators/common.py:258: DeprecationWarning: The Pauli.numberofqubits method is deprecated as of 0.13.0, and will be removed no earlier than 3 months after that release date. You should use the Pauli.num_qubits method instead.\n",
      "  state_registers = QuantumRegister(pauli_list[0][1].numberofqubits)\n",
      "/home/ibmqopen/anaconda3/envs/Qdemo/lib/python3.7/site-packages/qiskit/aqua/operators/common.py:273: DeprecationWarning: The Pauli.numberofqubits method is deprecated as of 0.13.0, and will be removed no earlier than 3 months after that release date. You should use the Pauli.num_qubits method instead.\n",
      "  n_qubits = pauli[1].numberofqubits\n",
      "/home/ibmqopen/anaconda3/envs/Qdemo/lib/python3.7/site-packages/qiskit/aqua/operators/common.py:273: DeprecationWarning: The Pauli.numberofqubits method is deprecated as of 0.13.0, and will be removed no earlier than 3 months after that release date. You should use the Pauli.num_qubits method instead.\n",
      "  n_qubits = pauli[1].numberofqubits\n",
      "/home/ibmqopen/anaconda3/envs/Qdemo/lib/python3.7/site-packages/qiskit/aqua/operators/common.py:273: DeprecationWarning: The Pauli.numberofqubits method is deprecated as of 0.13.0, and will be removed no earlier than 3 months after that release date. You should use the Pauli.num_qubits method instead.\n",
      "  n_qubits = pauli[1].numberofqubits\n"
     ]
    }
   ],
   "source": [
    "from qiskit.aqua.algorithms import QAOA\n",
    "from qiskit.aqua.components.optimizers import SPSA\n",
    "spsa = SPSA(max_trials=250)\n",
    "qaoa = QAOA(qubitOp, spsa, p=3)\n",
    "backend = Aer.get_backend('qasm_simulator')\n",
    "quantum_instance = QuantumInstance(backend, shots=1024)\n",
    "result = qaoa.run(quantum_instance)\n",
    "x = sample_most_likely(result['eigvecs'][0])\n"
   ]
  },
  {
   "cell_type": "code",
   "execution_count": 7,
   "metadata": {},
   "outputs": [
    {
     "name": "stdout",
     "output_type": "stream",
     "text": [
      "energy: 1.0\n",
      "time: 9.600014686584473\n",
      "max-cut objective: 0.0\n",
      "solution: [0 0 0]\n",
      "solution objective: 0\n"
     ]
    }
   ],
   "source": [
    "print('energy:', result['energy'])\n",
    "print('time:', result['eval_time'])\n",
    "print('max-cut objective:', result['energy'] + offset)\n",
    "print('solution:', max_cut.get_graph_solution(x))\n",
    "print('solution objective:', max_cut.max_cut_value(x, w))"
   ]
  },
  {
   "cell_type": "code",
   "execution_count": 8,
   "metadata": {},
   "outputs": [
    {
     "data": {
      "text/plain": [
       "{'111': 882, '000': 142}"
      ]
     },
     "execution_count": 8,
     "metadata": {},
     "output_type": "execute_result"
    }
   ],
   "source": [
    "result['min_vector']"
   ]
  },
  {
   "cell_type": "code",
   "execution_count": null,
   "metadata": {},
   "outputs": [],
   "source": []
  }
 ],
 "metadata": {
  "kernelspec": {
   "display_name": "Python 3",
   "language": "python",
   "name": "python3"
  },
  "language_info": {
   "codemirror_mode": {
    "name": "ipython",
    "version": 3
   },
   "file_extension": ".py",
   "mimetype": "text/x-python",
   "name": "python",
   "nbconvert_exporter": "python",
   "pygments_lexer": "ipython3",
   "version": "3.7.7"
  }
 },
 "nbformat": 4,
 "nbformat_minor": 4
}
